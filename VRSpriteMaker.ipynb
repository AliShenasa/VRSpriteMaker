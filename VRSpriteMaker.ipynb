{
 "cells": [
  {
   "cell_type": "code",
   "execution_count": 13,
   "id": "337c4cf7",
   "metadata": {},
   "outputs": [],
   "source": [
    "from PIL import Image, ImageDraw"
   ]
  },
  {
   "cell_type": "code",
   "execution_count": 14,
   "id": "ddb81544",
   "metadata": {},
   "outputs": [],
   "source": [
    "# Image Parameters\n",
    "# stripe_count = 6\n",
    "# stripe_width = 30\n",
    "\n",
    "spatial_period = 20 #degrees\n",
    "\n",
    "width = 360\n",
    "height = 300\n",
    "stripecolor = (0,0,255) #blue\n",
    "backgroundcolor = (50,50,50) #gray\n"
   ]
  },
  {
   "cell_type": "code",
   "execution_count": 15,
   "id": "5f3c4080",
   "metadata": {},
   "outputs": [],
   "source": [
    "def create_image(spatial_period=60, \n",
    "                 width=400, height=300,  \n",
    "                 stripe_color=(0,0,255), \n",
    "                 bg_color=(50,50,50)):\n",
    "    \"\"\"Creates an image with alternating stripes\n",
    "\n",
    "    Args:\n",
    "        spatial_period (int, optional): Amount of 360 view a light and dark stripe occupy. Defaults to 60. \n",
    "        width (int, optional): Width of image. Defaults to 400.\n",
    "        height (int, optional): Height of image. Defaults to 300.\n",
    "        stripe_color (tuple, optional): Color of light stripe. Defaults to (0,0,255).\n",
    "        bg_color (tuple, optional): Color of dark stripe. Defaults to (50,50,50).\n",
    "\n",
    "    Returns:\n",
    "        ~PIL.Image.Image: image\n",
    "    \"\"\"\n",
    "\n",
    "    img = Image.new('RGB', (width, height), color=bg_color)\n",
    "    draw = ImageDraw.Draw(img)\n",
    "\n",
    "    stripe_count = int(360/spatial_period)\n",
    "    stripe_width = int(spatial_period/2 * (width/360))\n",
    "\n",
    "    for i in range(0, stripe_count):\n",
    "        draw.rectangle([(i*width/stripe_count, 0),\n",
    "                        (i*width/stripe_count+stripe_width, height)],\n",
    "                        fill=stripe_color)\n",
    "    return img"
   ]
  },
  {
   "cell_type": "code",
   "execution_count": 16,
   "id": "3381225b",
   "metadata": {},
   "outputs": [],
   "source": [
    "for sp in [5, 10, 20, 30, 60, 90, 120]:\n",
    "    img = create_image(spatial_period=sp, \n",
    "                    width=1920, height=1080,  \n",
    "                    stripe_color=(0,0,255), \n",
    "                    bg_color=(50,50,50))\n",
    "\n",
    "    img.save(f'sprites/sprite_{sp}deg.png')\n",
    "# img.show()"
   ]
  }
 ],
 "metadata": {
  "kernelspec": {
   "display_name": "neuronSim",
   "language": "python",
   "name": "python3"
  },
  "language_info": {
   "codemirror_mode": {
    "name": "ipython",
    "version": 3
   },
   "file_extension": ".py",
   "mimetype": "text/x-python",
   "name": "python",
   "nbconvert_exporter": "python",
   "pygments_lexer": "ipython3",
   "version": "3.8.13"
  },
  "vscode": {
   "interpreter": {
    "hash": "eeeac163b17ba3ad3ae6bf241ef62c88c70fadc7d1e23839946e56855fd41bf5"
   }
  }
 },
 "nbformat": 4,
 "nbformat_minor": 5
}
