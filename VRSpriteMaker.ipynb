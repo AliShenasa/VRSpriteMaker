{
 "cells": [
  {
   "cell_type": "code",
   "execution_count": 1,
   "id": "337c4cf7",
   "metadata": {},
   "outputs": [],
   "source": [
    "from PIL import Image, ImageDraw"
   ]
  },
  {
   "cell_type": "code",
   "execution_count": 2,
   "id": "ddb81544",
   "metadata": {},
   "outputs": [],
   "source": [
    "# Image Parameters\n",
    "# stripe_count = 6\n",
    "# stripe_width = 30\n",
    "\n",
    "spatial_period = 20 #degrees\n",
    "\n",
    "width = 360\n",
    "height = 300\n",
    "stripecolor = (0,0,255) #blue\n",
    "backgroundcolor = (50,50,50) #gray\n"
   ]
  },
  {
   "cell_type": "code",
   "execution_count": 6,
   "id": "3381225b",
   "metadata": {},
   "outputs": [
    {
     "name": "stdout",
     "output_type": "stream",
     "text": [
      "0.0 to 10.0\n",
      "20.0 to 30.0\n",
      "40.0 to 50.0\n",
      "60.0 to 70.0\n",
      "80.0 to 90.0\n",
      "100.0 to 110.0\n",
      "120.0 to 130.0\n",
      "140.0 to 150.0\n",
      "160.0 to 170.0\n",
      "180.0 to 190.0\n",
      "200.0 to 210.0\n",
      "220.0 to 230.0\n",
      "240.0 to 250.0\n",
      "260.0 to 270.0\n",
      "280.0 to 290.0\n",
      "300.0 to 310.0\n",
      "320.0 to 330.0\n",
      "340.0 to 350.0\n"
     ]
    }
   ],
   "source": [
    "img = Image.new('RGB', (width, height), color=backgroundcolor)\n",
    "draw = ImageDraw.Draw(img)\n",
    "\n",
    "stripe_count = int(360/spatial_period)\n",
    "stripe_width = int(spatial_period/2 * (width/360))\n",
    "\n",
    "for i in range(0, stripe_count):\n",
    "    draw.rectangle([(i*width/stripe_count, 0),\n",
    "                    (i*width/stripe_count+stripe_width, height)],\n",
    "                    fill=stripecolor)\n",
    "    print(f\"{i*width/stripe_count} to {i*width/stripe_count+stripe_width}\")\n",
    "\n",
    "img.save('sprite.png')\n",
    "# img.show()"
   ]
  }
 ],
 "metadata": {
  "kernelspec": {
   "display_name": "neuronSim",
   "language": "python",
   "name": "python3"
  },
  "language_info": {
   "codemirror_mode": {
    "name": "ipython",
    "version": 3
   },
   "file_extension": ".py",
   "mimetype": "text/x-python",
   "name": "python",
   "nbconvert_exporter": "python",
   "pygments_lexer": "ipython3",
   "version": "3.8.13"
  },
  "vscode": {
   "interpreter": {
    "hash": "eeeac163b17ba3ad3ae6bf241ef62c88c70fadc7d1e23839946e56855fd41bf5"
   }
  }
 },
 "nbformat": 4,
 "nbformat_minor": 5
}
