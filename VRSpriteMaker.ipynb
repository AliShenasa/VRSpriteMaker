{
 "cells": [
  {
   "cell_type": "code",
   "execution_count": 1,
   "id": "337c4cf7",
   "metadata": {},
   "outputs": [],
   "source": [
    "from PIL import Image, ImageDraw"
   ]
  },
  {
   "cell_type": "code",
   "execution_count": 2,
   "id": "ddb81544",
   "metadata": {},
   "outputs": [],
   "source": [
    "# Image Parameters\n",
    "stripecount = 5\n",
    "width = 400\n",
    "height = 300\n",
    "stripecolor = (0,0,255) #blue\n",
    "backgroundcolor = (50,50,50) #gray\n",
    "stripewidth = 10"
   ]
  },
  {
   "cell_type": "code",
   "execution_count": 3,
   "id": "3381225b",
   "metadata": {},
   "outputs": [],
   "source": [
    "img = Image.new('RGB', (width, height), color=backgroundcolor)\n",
    "draw = ImageDraw.Draw(img)\n",
    "\n",
    "for i in range(0, stripecount):\n",
    "    draw.rectangle([(i*width/stripecount, 0),\n",
    "                    (i*width/stripecount+stripewidth, height)],\n",
    "                    fill=stripecolor)\n",
    "\n",
    "img.save('sprite.png')"
   ]
  }
 ],
 "metadata": {
  "kernelspec": {
   "display_name": "lab",
   "language": "python",
   "name": "lab"
  },
  "language_info": {
   "codemirror_mode": {
    "name": "ipython",
    "version": 3
   },
   "file_extension": ".py",
   "mimetype": "text/x-python",
   "name": "python",
   "nbconvert_exporter": "python",
   "pygments_lexer": "ipython3",
   "version": "3.10.0"
  }
 },
 "nbformat": 4,
 "nbformat_minor": 5
}
